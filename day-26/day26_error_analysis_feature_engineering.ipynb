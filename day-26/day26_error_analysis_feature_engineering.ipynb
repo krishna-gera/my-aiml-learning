{
  "nbformat": 4,
  "nbformat_minor": 0,
  "metadata": {
    "colab": {
      "provenance": [],
      "authorship_tag": "ABX9TyN4Kk7odNmrGfs8ieTf9k4C",
      "include_colab_link": true
    },
    "kernelspec": {
      "name": "python3",
      "display_name": "Python 3"
    },
    "language_info": {
      "name": "python"
    }
  },
  "cells": [
    {
      "cell_type": "markdown",
      "metadata": {
        "id": "view-in-github",
        "colab_type": "text"
      },
      "source": [
        "<a href=\"https://colab.research.google.com/github/krishna-gera/my-aiml-learning/blob/main/day-26/day26_error_analysis_feature_engineering.ipynb\" target=\"_parent\"><img src=\"https://colab.research.google.com/assets/colab-badge.svg\" alt=\"Open In Colab\"/></a>"
      ]
    },
    {
      "cell_type": "code",
      "execution_count": null,
      "metadata": {
        "colab": {
          "base_uri": "https://localhost:8080/"
        },
        "id": "TvSUTPpx9Cu9",
        "outputId": "40ce4718-5173-4a57-ff5f-a7aa1f4e04f2"
      },
      "outputs": [
        {
          "output_type": "stream",
          "name": "stdout",
          "text": [
            "✅ Data Loaded\n",
            "Train shape: (891, 30)\n",
            "Test shape: (418, 29)\n",
            "✅ Train/Validation Split done\n",
            "\n",
            "📊 Validation Accuracy (Ensemble): 0.6536\n",
            "\n",
            "✅ Submission file saved as day26_submission.csv\n"
          ]
        }
      ],
      "source": [
        "# day26_pipeline_advanced.py\n",
        "# Day 26 - Pipelines, Preprocessing & Ensemble Methods\n",
        "\n",
        "import pandas as pd\n",
        "import sklearn\n",
        "from packaging import version\n",
        "from sklearn.model_selection import train_test_split\n",
        "from sklearn.metrics import accuracy_score\n",
        "from sklearn.pipeline import Pipeline\n",
        "from sklearn.impute import SimpleImputer\n",
        "from sklearn.preprocessing import StandardScaler, OneHotEncoder\n",
        "from sklearn.compose import ColumnTransformer\n",
        "from sklearn.ensemble import RandomForestClassifier, GradientBoostingClassifier, VotingClassifier\n",
        "\n",
        "# ---------------------------\n",
        "# Step 1: Load Data\n",
        "# ---------------------------\n",
        "train = pd.read_csv(\"train_processed.csv\")\n",
        "test = pd.read_csv(\"test_processed.csv\")\n",
        "\n",
        "print(\"✅ Data Loaded\")\n",
        "print(\"Train shape:\", train.shape)\n",
        "print(\"Test shape:\", test.shape)\n",
        "\n",
        "# ---------------------------\n",
        "# Step 2: Features & Target\n",
        "# ---------------------------\n",
        "X = train.drop([\"Survived\", \"PassengerId\"], axis=1)\n",
        "y = train[\"Survived\"]\n",
        "X_test = test.drop(\"PassengerId\", axis=1)\n",
        "\n",
        "# ---------------------------\n",
        "# Step 3: Train/Validation Split\n",
        "# ---------------------------\n",
        "X_train, X_val, y_train, y_val = train_test_split(\n",
        "    X, y, test_size=0.2, random_state=42, stratify=y\n",
        ")\n",
        "print(\"✅ Train/Validation Split done\")\n",
        "\n",
        "# ---------------------------\n",
        "# Step 4: Build Preprocessor\n",
        "# ---------------------------\n",
        "num_features = X.select_dtypes(include=[\"int64\", \"float64\"]).columns\n",
        "cat_features = X.select_dtypes(include=[\"object\"]).columns\n",
        "\n",
        "num_pipe = Pipeline([\n",
        "    (\"imputer\", SimpleImputer(strategy=\"median\")),\n",
        "    (\"scaler\", StandardScaler())\n",
        "])\n",
        "\n",
        "# version-safe OneHotEncoder\n",
        "if version.parse(sklearn.__version__) >= version.parse(\"1.2\"):\n",
        "    onehot = OneHotEncoder(handle_unknown=\"ignore\", sparse_output=False)\n",
        "else:\n",
        "    onehot = OneHotEncoder(handle_unknown=\"ignore\", sparse=False)\n",
        "\n",
        "cat_pipe = Pipeline([\n",
        "    (\"imputer\", SimpleImputer(strategy=\"most_frequent\")),\n",
        "    (\"onehot\", onehot)\n",
        "])\n",
        "\n",
        "preprocessor = ColumnTransformer([\n",
        "    (\"num\", num_pipe, num_features),\n",
        "    (\"cat\", cat_pipe, cat_features)\n",
        "])\n",
        "\n",
        "# ---------------------------\n",
        "# Step 5: Define Models\n",
        "# ---------------------------\n",
        "rf = Pipeline([\n",
        "    (\"preprocessor\", preprocessor),\n",
        "    (\"model\", RandomForestClassifier(random_state=42))\n",
        "])\n",
        "\n",
        "gb = Pipeline([\n",
        "    (\"preprocessor\", preprocessor),\n",
        "    (\"model\", GradientBoostingClassifier(random_state=42))\n",
        "])\n",
        "\n",
        "# Ensemble with Voting Classifier\n",
        "ensemble = VotingClassifier(\n",
        "    estimators=[(\"rf\", rf), (\"gb\", gb)],\n",
        "    voting=\"soft\"\n",
        ")\n",
        "\n",
        "# ---------------------------\n",
        "# Step 6: Train & Evaluate\n",
        "# ---------------------------\n",
        "ensemble.fit(X_train, y_train)\n",
        "val_preds = ensemble.predict(X_val)\n",
        "val_acc = accuracy_score(y_val, val_preds)\n",
        "\n",
        "print(f\"\\n📊 Validation Accuracy (Ensemble): {val_acc:.4f}\")\n",
        "\n",
        "# ---------------------------\n",
        "# Step 7: Final Predictions\n",
        "# ---------------------------\n",
        "test_preds = ensemble.predict(X_test)\n",
        "\n",
        "submission = pd.DataFrame({\n",
        "    \"PassengerId\": test[\"PassengerId\"],\n",
        "    \"Survived\": test_preds\n",
        "})\n",
        "\n",
        "submission.to_csv(\"day26_submission.csv\", index=False)\n",
        "print(\"\\n✅ Submission file saved as day26_submission.csv\")\n"
      ]
    }
  ]
}