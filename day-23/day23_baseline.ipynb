{
  "nbformat": 4,
  "nbformat_minor": 0,
  "metadata": {
    "colab": {
      "provenance": [],
      "authorship_tag": "ABX9TyNtrTC2jhF93E6z4oG70x1e",
      "include_colab_link": true
    },
    "kernelspec": {
      "name": "python3",
      "display_name": "Python 3"
    },
    "language_info": {
      "name": "python"
    }
  },
  "cells": [
    {
      "cell_type": "markdown",
      "metadata": {
        "id": "view-in-github",
        "colab_type": "text"
      },
      "source": [
        "<a href=\"https://colab.research.google.com/github/krishna-gera/my-aiml-learning/blob/main/day-23/day23_baseline.ipynb\" target=\"_parent\"><img src=\"https://colab.research.google.com/assets/colab-badge.svg\" alt=\"Open In Colab\"/></a>"
      ]
    },
    {
      "cell_type": "code",
      "execution_count": 1,
      "metadata": {
        "colab": {
          "base_uri": "https://localhost:8080/"
        },
        "id": "1cTKWv_bAMug",
        "outputId": "d8add4e7-45fe-4f83-fa12-e82bc085999c"
      },
      "outputs": [
        {
          "output_type": "stream",
          "name": "stdout",
          "text": [
            "✅ Data Loaded\n",
            "Train shape: (891, 30)\n",
            "Test shape: (418, 29)\n",
            "✅ Train/Validation Split done\n",
            "\n",
            "📊 Validation Accuracies:\n",
            "Logistic Regression: 0.8436\n",
            "Decision Tree: 0.7989\n",
            "Random Forest: 0.7598\n",
            "\n",
            "🏆 Best Model: Logistic Regression\n",
            "\n",
            "✅ Submission file saved as day23_submission.csv\n"
          ]
        }
      ],
      "source": [
        "# day23_baseline.py\n",
        "# Day 23 - Feature Engineering + Baseline Models\n",
        "\n",
        "import pandas as pd\n",
        "from sklearn.model_selection import train_test_split\n",
        "from sklearn.metrics import accuracy_score\n",
        "from sklearn.linear_model import LogisticRegression\n",
        "from sklearn.tree import DecisionTreeClassifier\n",
        "from sklearn.ensemble import RandomForestClassifier\n",
        "\n",
        "# ---------------------------\n",
        "# Step 1: Load Data\n",
        "# ---------------------------\n",
        "train = pd.read_csv(\"train_processed.csv\")\n",
        "test = pd.read_csv(\"test_processed.csv\")\n",
        "\n",
        "print(\"✅ Data Loaded\")\n",
        "print(\"Train shape:\", train.shape)\n",
        "print(\"Test shape:\", test.shape)\n",
        "\n",
        "# ---------------------------\n",
        "# Step 2: Define Features & Target\n",
        "# ---------------------------\n",
        "X = train.drop([\"Survived\", \"PassengerId\"], axis=1)\n",
        "y = train[\"Survived\"]\n",
        "\n",
        "X_test = test.drop(\"PassengerId\", axis=1)\n",
        "\n",
        "# ---------------------------\n",
        "# Step 3: Train/Validation Split\n",
        "# ---------------------------\n",
        "X_train, X_val, y_train, y_val = train_test_split(\n",
        "    X, y, test_size=0.2, random_state=42, stratify=y\n",
        ")\n",
        "print(\"✅ Train/Validation Split done\")\n",
        "\n",
        "# ---------------------------\n",
        "# Step 4: Baseline Models\n",
        "# ---------------------------\n",
        "results = {}\n",
        "\n",
        "# Logistic Regression\n",
        "lr = LogisticRegression(max_iter=1000, random_state=42)\n",
        "lr.fit(X_train, y_train)\n",
        "lr_preds = lr.predict(X_val)\n",
        "results[\"Logistic Regression\"] = accuracy_score(y_val, lr_preds)\n",
        "\n",
        "# Decision Tree\n",
        "dt = DecisionTreeClassifier(random_state=42)\n",
        "dt.fit(X_train, y_train)\n",
        "dt_preds = dt.predict(X_val)\n",
        "results[\"Decision Tree\"] = accuracy_score(y_val, dt_preds)\n",
        "\n",
        "# Random Forest\n",
        "rf = RandomForestClassifier(random_state=42)\n",
        "rf.fit(X_train, y_train)\n",
        "rf_preds = rf.predict(X_val)\n",
        "results[\"Random Forest\"] = accuracy_score(y_val, rf_preds)\n",
        "\n",
        "# ---------------------------\n",
        "# Step 5: Compare Models\n",
        "# ---------------------------\n",
        "print(\"\\n📊 Validation Accuracies:\")\n",
        "for model, acc in results.items():\n",
        "    print(f\"{model}: {acc:.4f}\")\n",
        "\n",
        "best_model_name = max(results, key=results.get)\n",
        "print(f\"\\n🏆 Best Model: {best_model_name}\")\n",
        "\n",
        "if best_model_name == \"Logistic Regression\":\n",
        "    best_model = lr\n",
        "elif best_model_name == \"Decision Tree\":\n",
        "    best_model = dt\n",
        "else:\n",
        "    best_model = rf\n",
        "\n",
        "# ---------------------------\n",
        "# Step 6: Generate Submission\n",
        "# ---------------------------\n",
        "test_preds = best_model.predict(X_test)\n",
        "\n",
        "submission = pd.DataFrame({\n",
        "    \"PassengerId\": test[\"PassengerId\"],\n",
        "    \"Survived\": test_preds\n",
        "})\n",
        "\n",
        "submission.to_csv(\"day23_submission.csv\", index=False)\n",
        "print(\"\\n✅ Submission file saved as day23_submission.csv\")\n"
      ]
    }
  ]
}