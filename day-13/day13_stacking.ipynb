{
  "nbformat": 4,
  "nbformat_minor": 0,
  "metadata": {
    "colab": {
      "provenance": [],
      "authorship_tag": "ABX9TyPUUe/aJCUI5i0RdWbi+LqY",
      "include_colab_link": true
    },
    "kernelspec": {
      "name": "python3",
      "display_name": "Python 3"
    },
    "language_info": {
      "name": "python"
    }
  },
  "cells": [
    {
      "cell_type": "markdown",
      "metadata": {
        "id": "view-in-github",
        "colab_type": "text"
      },
      "source": [
        "<a href=\"https://colab.research.google.com/github/krishna-gera/my-aiml-learning/blob/main/day-13/day13_stacking.ipynb\" target=\"_parent\"><img src=\"https://colab.research.google.com/assets/colab-badge.svg\" alt=\"Open In Colab\"/></a>"
      ]
    },
    {
      "cell_type": "code",
      "source": [
        "# Day 13 - Titanic Kaggle Submission with Stacking Ensemble\n",
        "\n",
        "import pandas as pd\n",
        "from sklearn.model_selection import train_test_split\n",
        "from sklearn.ensemble import RandomForestClassifier, StackingClassifier\n",
        "from xgboost import XGBClassifier\n",
        "from sklearn.linear_model import LogisticRegression\n",
        "from sklearn.metrics import accuracy_score\n",
        "\n",
        "# ---------------------------\n",
        "# Step 1: Load processed data\n",
        "# ---------------------------\n",
        "# Corrected file names to match the uploaded files\n",
        "train = pd.read_csv(\"train_processed.csv\")\n",
        "test = pd.read_csv(\"test_processed.csv\")\n",
        "\n",
        "# Create a dummy passenger ID list. In a real competition, you would load this from the\n",
        "# original 'test.csv' file to ensure proper submission formatting.\n",
        "# For example: test_passenger_ids = pd.read_csv(\"original_test.csv\")[\"PassengerId\"]\n",
        "# Here we'll create one based on the length of the processed test data.\n",
        "test_passenger_ids = pd.DataFrame({\"PassengerId\": range(len(test))})\n",
        "\n",
        "# ---------------------------\n",
        "# Step 1.5: Preprocess data (One-Hot Encoding for 'Embarked')\n",
        "# ---------------------------\n",
        "# The ValueError indicates a string column is present.\n",
        "# We'll use get_dummies to one-hot encode the 'Embarked' column.\n",
        "train = pd.get_dummies(train, columns=['Embarked'], drop_first=True)\n",
        "test = pd.get_dummies(test, columns=['Embarked'], drop_first=True)\n",
        "\n",
        "# Separate features (X) and target (y) from the training data\n",
        "X = train.drop(\"Survived\", axis=1)\n",
        "y = train[\"Survived\"]\n",
        "\n",
        "# ---------------------------\n",
        "# Step 2: Split data for validation\n",
        "# ---------------------------\n",
        "X_train, X_val, y_train, y_val = train_test_split(\n",
        "    X, y, test_size=0.2, random_state=42\n",
        ")\n",
        "\n",
        "# ---------------------------\n",
        "# Step 3: Define base models\n",
        "# ---------------------------\n",
        "rf = RandomForestClassifier(n_estimators=200, random_state=42)\n",
        "xgb = XGBClassifier(\n",
        "    n_estimators=200,\n",
        "    learning_rate=0.1,\n",
        "    max_depth=3,\n",
        "    random_state=42,\n",
        "    eval_metric=\"logloss\"\n",
        ")\n",
        "lr = LogisticRegression(max_iter=1000)\n",
        "\n",
        "# ---------------------------\n",
        "# Step 4: Build Stacking model\n",
        "# ---------------------------\n",
        "stack_model = StackingClassifier(\n",
        "    estimators=[(\"rf\", rf), (\"xgb\", xgb)],\n",
        "    final_estimator=lr,\n",
        "    passthrough=False\n",
        ")\n",
        "\n",
        "# ---------------------------\n",
        "# Step 5: Train and validate\n",
        "# ---------------------------\n",
        "stack_model.fit(X_train, y_train)\n",
        "y_pred = stack_model.predict(X_val)\n",
        "print(\"Validation Accuracy:\", accuracy_score(y_val, y_pred))\n",
        "\n",
        "# ---------------------------\n",
        "# Step 6: Train on full data & Predict Test\n",
        "# ---------------------------\n",
        "stack_model.fit(X, y)\n",
        "\n",
        "# Drop the 'Survived' column from the test data before prediction to match\n",
        "# the features (X) the model was trained on.\n",
        "test_features = test.drop(\"Survived\", axis=1)\n",
        "test_pred = stack_model.predict(test_features)\n",
        "\n",
        "# ---------------------------\n",
        "# Step 7: Create submission file\n",
        "# ---------------------------\n",
        "# Ensure the 'PassengerId' column is created and matches the number of rows in the test set.\n",
        "submission = pd.DataFrame({\n",
        "    \"PassengerId\": test_passenger_ids[\"PassengerId\"],\n",
        "    \"Survived\": test_pred\n",
        "})\n",
        "\n",
        "# The script creates the 'submissions' directory if it doesn't exist\n",
        "submission.to_csv(\"day13_stacking.csv\", index=False)\n",
        "\n",
        "print(\"✅ Submission saved at: day13_stacking.csv\")\n"
      ],
      "metadata": {
        "colab": {
          "base_uri": "https://localhost:8080/"
        },
        "id": "iuX72UALvJZH",
        "outputId": "5ab114f7-b396-4fc8-cbb6-c679768337b3"
      },
      "execution_count": 23,
      "outputs": [
        {
          "output_type": "stream",
          "name": "stdout",
          "text": [
            "Validation Accuracy: 0.8491620111731844\n",
            "✅ Submission saved at: day13_stacking.csv\n"
          ]
        }
      ]
    }
  ]
}