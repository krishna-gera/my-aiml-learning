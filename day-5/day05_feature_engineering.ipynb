{
  "nbformat": 4,
  "nbformat_minor": 0,
  "metadata": {
    "colab": {
      "provenance": [],
      "authorship_tag": "ABX9TyPELhtw3ygzxrFqU+g6kqSY",
      "include_colab_link": true
    },
    "kernelspec": {
      "name": "python3",
      "display_name": "Python 3"
    },
    "language_info": {
      "name": "python"
    }
  },
  "cells": [
    {
      "cell_type": "markdown",
      "metadata": {
        "id": "view-in-github",
        "colab_type": "text"
      },
      "source": [
        "<a href=\"https://colab.research.google.com/github/krishna-gera/my-aiml-learning/blob/main/day-5/day05_feature_engineering.ipynb\" target=\"_parent\"><img src=\"https://colab.research.google.com/assets/colab-badge.svg\" alt=\"Open In Colab\"/></a>"
      ]
    },
    {
      "cell_type": "code",
      "execution_count": 1,
      "metadata": {
        "colab": {
          "base_uri": "https://localhost:8080/"
        },
        "id": "A2HDM6DoJbvA",
        "outputId": "21e74918-0597-4c5a-ba6f-db7709c23277"
      },
      "outputs": [
        {
          "output_type": "stream",
          "name": "stdout",
          "text": [
            "✅ Data loaded: (891, 12)\n",
            "✅ Features engineered. New shape: (891, 13)\n",
            "✅ Train/Test split -> (712, 11) (179, 11)\n",
            "\n",
            "🎯 Best Parameters: {'criterion': 'gini', 'max_depth': 6, 'min_samples_split': 10}\n",
            "📊 Best CV Accuracy: 0.8203\n",
            "\n",
            "--- Classification Report (Test Set) ---\n",
            "              precision    recall  f1-score   support\n",
            "\n",
            "           0       0.78      0.91      0.84       110\n",
            "           1       0.80      0.58      0.67        69\n",
            "\n",
            "    accuracy                           0.78       179\n",
            "   macro avg       0.79      0.74      0.75       179\n",
            "weighted avg       0.78      0.78      0.77       179\n",
            "\n",
            "\n",
            "✅ Day 5 complete! GridSearch results saved at: day05/day05_gridsearch_results.csv\n"
          ]
        }
      ],
      "source": [
        "import pandas as pd\n",
        "import numpy as np\n",
        "from sklearn.model_selection import train_test_split, GridSearchCV\n",
        "from sklearn.tree import DecisionTreeClassifier\n",
        "from sklearn.metrics import classification_report\n",
        "from pathlib import Path\n",
        "\n",
        "# -----------------------------\n",
        "# Step 1 – Load Clean Dataset\n",
        "# -----------------------------\n",
        "data_path = Path(\"day02_titanic_clean.csv\") # Removed \"day02/\" from the path\n",
        "if not data_path.exists():\n",
        "    raise FileNotFoundError(\"❌ day02_titanic_clean.csv not found. Please run your Day 2 script first.\")\n",
        "\n",
        "df = pd.read_csv(data_path)\n",
        "print(\"✅ Data loaded:\", df.shape)\n",
        "\n",
        "# -----------------------------\n",
        "# Step 2 – Additional Feature Engineering\n",
        "# -----------------------------\n",
        "\n",
        "# Family size & IsAlone (if not already created in Day 2)\n",
        "if \"FamilySize\" not in df.columns and {\"SibSp\",\"Parch\"}.issubset(df.columns):\n",
        "    df['FamilySize'] = df['SibSp'] + df['Parch'] + 1\n",
        "if \"IsAlone\" not in df.columns:\n",
        "    df['IsAlone'] = (df['FamilySize'] == 1).astype(int)\n",
        "\n",
        "# Extract Title from Name if available\n",
        "if \"Name\" in df.columns:\n",
        "    df['Title'] = df['Name'].str.extract(r' ([A-Za-z]+)\\.', expand=False) # Added 'r' for raw string to fix SyntaxWarning\n",
        "    df['Title'] = df['Title'].replace(\n",
        "        ['Lady','Countess','Capt','Col','Don','Dr','Major','Rev','Sir','Jonkheer','Dona'], 'Rare'\n",
        "    )\n",
        "    df['Title'] = df['Title'].replace(['Mlle','Ms'], 'Miss')\n",
        "    df['Title'] = df['Title'].replace('Mme', 'Mrs')\n",
        "else:\n",
        "    df['Title'] = \"Unknown\"\n",
        "\n",
        "# One-hot encode categorical\n",
        "df = pd.get_dummies(df, columns=['Sex','Embarked','Title'], drop_first=True)\n",
        "\n",
        "print(\"✅ Features engineered. New shape:\", df.shape)\n",
        "\n",
        "# -----------------------------\n",
        "# Step 3 – Train/Test Split\n",
        "# -----------------------------\n",
        "if \"Survived\" not in df.columns:\n",
        "    raise KeyError(\"❌ Target column 'Survived' not found in dataset.\")\n",
        "\n",
        "X = df.drop(['Survived','PassengerId','Ticket','Cabin','Name'], axis=1, errors='ignore')\n",
        "y = df['Survived']\n",
        "\n",
        "X_train, X_test, y_train, y_test = train_test_split(\n",
        "    X, y, test_size=0.2, stratify=y, random_state=42\n",
        ")\n",
        "\n",
        "print(\"✅ Train/Test split ->\", X_train.shape, X_test.shape)\n",
        "\n",
        "# -----------------------------\n",
        "# Step 4 – Hyperparameter Tuning (Decision Tree)\n",
        "# -----------------------------\n",
        "param_grid = {\n",
        "    'max_depth': [2, 4, 6, 8, 10, None],\n",
        "    'min_samples_split': [2, 5, 10],\n",
        "    'criterion': ['gini','entropy']\n",
        "}\n",
        "\n",
        "dt = DecisionTreeClassifier(random_state=42)\n",
        "\n",
        "grid_search = GridSearchCV(dt, param_grid, cv=5, scoring='accuracy')\n",
        "grid_search.fit(X_train, y_train)\n",
        "\n",
        "print(\"\\n🎯 Best Parameters:\", grid_search.best_params_)\n",
        "print(\"📊 Best CV Accuracy:\", round(grid_search.best_score_, 4))\n",
        "\n",
        "# -----------------------------\n",
        "# Step 5 – Evaluate Best Model\n",
        "# -----------------------------\n",
        "best_dt = grid_search.best_estimator_\n",
        "y_pred = best_dt.predict(X_test)\n",
        "\n",
        "print(\"\\n--- Classification Report (Test Set) ---\")\n",
        "print(classification_report(y_test, y_pred))\n",
        "\n",
        "# -----------------------------\n",
        "# Step 6 – Save Results\n",
        "# -----------------------------\n",
        "out_dir = Path(\"day05\")\n",
        "out_dir.mkdir(exist_ok=True)\n",
        "\n",
        "pd.DataFrame(grid_search.cv_results_).to_csv(out_dir / \"day05_gridsearch_results.csv\", index=False)\n",
        "\n",
        "print(\"\\n✅ Day 5 complete! GridSearch results saved at:\", out_dir / \"day05_gridsearch_results.csv\")"
      ]
    }
  ]
}