{
  "nbformat": 4,
  "nbformat_minor": 0,
  "metadata": {
    "colab": {
      "provenance": [],
      "authorship_tag": "ABX9TyOd8ercsR6gpYxGvpNtgZTs",
      "include_colab_link": true
    },
    "kernelspec": {
      "name": "python3",
      "display_name": "Python 3"
    },
    "language_info": {
      "name": "python"
    }
  },
  "cells": [
    {
      "cell_type": "markdown",
      "metadata": {
        "id": "view-in-github",
        "colab_type": "text"
      },
      "source": [
        "<a href=\"https://colab.research.google.com/github/krishna-gera/my-aiml-learning/blob/main/day-29/day29_app.ipynb\" target=\"_parent\"><img src=\"https://colab.research.google.com/assets/colab-badge.svg\" alt=\"Open In Colab\"/></a>"
      ]
    },
    {
      "cell_type": "code",
      "source": [
        "import joblib\n",
        "\n",
        "saved = joblib.load(\"day28_models.joblib\")\n",
        "print(\"Keys inside joblib file:\", saved.keys())\n",
        "\n"
      ],
      "metadata": {
        "colab": {
          "base_uri": "https://localhost:8080/"
        },
        "id": "v1bfj4xMizTH",
        "outputId": "83e28d4c-ae61-4265-c371-8b898758d937"
      },
      "execution_count": 8,
      "outputs": [
        {
          "output_type": "stream",
          "name": "stdout",
          "text": [
            "Keys inside joblib file: dict_keys(['preprocessor', 'stacking_model', 'best_threshold', 'selected_rule'])\n"
          ]
        }
      ]
    },
    {
      "cell_type": "code",
      "source": [
        "import gradio as gr\n",
        "import pandas as pd\n",
        "import joblib\n",
        "import traceback\n",
        "\n",
        "# Load saved models\n",
        "try:\n",
        "    saved = joblib.load(\"day28_models.joblib\")\n",
        "    preprocessor = saved.get(\"preprocessor\")\n",
        "    final_model = saved.get(\"stacking_model\")\n",
        "    best_threshold = saved.get(\"best_threshold\", 0.5)  # default 0.5 if missing\n",
        "\n",
        "    if final_model is None:\n",
        "        raise ValueError(\"No final model found in joblib file.\")\n",
        "    if preprocessor is None:\n",
        "        raise ValueError(\"Preprocessor not found in joblib file.\")\n",
        "\n",
        "except Exception:\n",
        "    print(\"Error loading models:\")\n",
        "    print(traceback.format_exc())\n",
        "    final_model = None\n",
        "    preprocessor = None\n",
        "    best_threshold = 0.5\n",
        "\n",
        "expected_cols = list(preprocessor.feature_names_in_) if preprocessor else []\n",
        "\n",
        "def predict_file(file):\n",
        "    try:\n",
        "        if final_model is None or preprocessor is None:\n",
        "            return \"⚠️ Models or preprocessor not loaded properly.\"\n",
        "\n",
        "        df = pd.read_csv(file.name)\n",
        "        df = df.loc[:, ~df.columns.str.contains(\"^Unnamed\")]\n",
        "\n",
        "        # Ensure all expected columns exist\n",
        "        for col in expected_cols:\n",
        "            if col not in df.columns:\n",
        "                df[col] = 0\n",
        "        df = df[expected_cols]\n",
        "\n",
        "        # Transform + predict probabilities\n",
        "        X_proc = preprocessor.transform(df)\n",
        "        if hasattr(final_model, \"predict_proba\"):\n",
        "            probs = final_model.predict_proba(X_proc)[:, 1]\n",
        "            preds = (probs >= best_threshold).astype(int)\n",
        "        else:\n",
        "            preds = final_model.predict(X_proc)\n",
        "\n",
        "        df[\"Survived\"] = preds\n",
        "        output_path = \"day29_predictions.csv\"\n",
        "        df.to_csv(output_path, index=False)\n",
        "        return output_path\n",
        "\n",
        "    except Exception:\n",
        "        return f\"⚠️ Error:\\n{traceback.format_exc()}\"\n",
        "\n",
        "demo = gr.Interface(\n",
        "    fn=predict_file,\n",
        "    inputs=gr.File(file_types=[\".csv\"], label=\"Upload CSV\"),\n",
        "    outputs=\"file\",\n",
        "    title=\"🚢 Titanic Survival Prediction (Day 29)\",\n",
        "    description=\"Upload CSV and download predictions with Survived column.\"\n",
        ")\n",
        "\n",
        "demo.launch(share=True)\n"
      ],
      "metadata": {
        "colab": {
          "base_uri": "https://localhost:8080/",
          "height": 609
        },
        "id": "GdND8ZUvi9jl",
        "outputId": "d41e53ce-2ad3-4bfc-ed9e-e58aa0f61921"
      },
      "execution_count": 9,
      "outputs": [
        {
          "output_type": "stream",
          "name": "stdout",
          "text": [
            "Colab notebook detected. To show errors in colab notebook, set debug=True in launch()\n",
            "* Running on public URL: https://29377c5846f66ae85e.gradio.live\n",
            "\n",
            "This share link expires in 1 week. For free permanent hosting and GPU upgrades, run `gradio deploy` from the terminal in the working directory to deploy to Hugging Face Spaces (https://huggingface.co/spaces)\n"
          ]
        },
        {
          "output_type": "display_data",
          "data": {
            "text/plain": [
              "<IPython.core.display.HTML object>"
            ],
            "text/html": [
              "<div><iframe src=\"https://29377c5846f66ae85e.gradio.live\" width=\"100%\" height=\"500\" allow=\"autoplay; camera; microphone; clipboard-read; clipboard-write;\" frameborder=\"0\" allowfullscreen></iframe></div>"
            ]
          },
          "metadata": {}
        },
        {
          "output_type": "execute_result",
          "data": {
            "text/plain": []
          },
          "metadata": {},
          "execution_count": 9
        }
      ]
    }
  ]
}